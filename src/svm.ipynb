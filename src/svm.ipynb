{
 "metadata": {
  "language_info": {
   "codemirror_mode": {
    "name": "ipython",
    "version": 3
   },
   "file_extension": ".py",
   "mimetype": "text/x-python",
   "name": "python",
   "nbconvert_exporter": "python",
   "pygments_lexer": "ipython3",
   "version": "3.8.7-final"
  },
  "orig_nbformat": 2,
  "kernelspec": {
   "name": "python3",
   "display_name": "Python 3",
   "language": "python"
  }
 },
 "nbformat": 4,
 "nbformat_minor": 2,
 "cells": [
  {
   "cell_type": "code",
   "execution_count": 1,
   "metadata": {},
   "outputs": [
    {
     "output_type": "stream",
     "name": "stdout",
     "text": [
      "ERROR! Session/line number was not unique in database. History logging moved to new session 4\n"
     ]
    }
   ],
   "source": [
    "from keras.preprocessing.image import ImageDataGenerator\n",
    "import numpy as np\n",
    "from keras.applications.vgg16 import VGG16\n",
    "from keras.models import Model\n",
    "from keras.layers import Flatten\n",
    "from sklearn.svm import SVC"
   ]
  },
  {
   "cell_type": "code",
   "execution_count": 2,
   "metadata": {},
   "outputs": [],
   "source": [
    "##selected classses\n",
    "classes = [\"Lemon\", \"Raspberry\", \"Mandarine\", \"Pear 2\", \"Apple Red 1\", \"Strawberry\", \"Pomegranate\", \"Pepino\", \"Kaki\", \"Apricot\", \"Ginger Root\", \"Huckleberry\"]"
   ]
  },
  {
   "cell_type": "code",
   "execution_count": 3,
   "metadata": {},
   "outputs": [],
   "source": [
    "TRAIN_DIR = \"../data/Training\"\n",
    "TEST_DIR = \"../data/Test\""
   ]
  },
  {
   "cell_type": "code",
   "execution_count": 4,
   "metadata": {},
   "outputs": [
    {
     "output_type": "stream",
     "name": "stdout",
     "text": [
      "Model: \"vgg16\"\n_________________________________________________________________\nLayer (type)                 Output Shape              Param #   \n=================================================================\ninput_1 (InputLayer)         [(None, 224, 224, 3)]     0         \n_________________________________________________________________\nblock1_conv1 (Conv2D)        (None, 224, 224, 64)      1792      \n_________________________________________________________________\nblock1_conv2 (Conv2D)        (None, 224, 224, 64)      36928     \n_________________________________________________________________\nblock1_pool (MaxPooling2D)   (None, 112, 112, 64)      0         \n_________________________________________________________________\nblock2_conv1 (Conv2D)        (None, 112, 112, 128)     73856     \n_________________________________________________________________\nblock2_conv2 (Conv2D)        (None, 112, 112, 128)     147584    \n_________________________________________________________________\nblock2_pool (MaxPooling2D)   (None, 56, 56, 128)       0         \n_________________________________________________________________\nblock3_conv1 (Conv2D)        (None, 56, 56, 256)       295168    \n_________________________________________________________________\nblock3_conv2 (Conv2D)        (None, 56, 56, 256)       590080    \n_________________________________________________________________\nblock3_conv3 (Conv2D)        (None, 56, 56, 256)       590080    \n_________________________________________________________________\nblock3_pool (MaxPooling2D)   (None, 28, 28, 256)       0         \n_________________________________________________________________\nblock4_conv1 (Conv2D)        (None, 28, 28, 512)       1180160   \n_________________________________________________________________\nblock4_conv2 (Conv2D)        (None, 28, 28, 512)       2359808   \n_________________________________________________________________\nblock4_conv3 (Conv2D)        (None, 28, 28, 512)       2359808   \n_________________________________________________________________\nblock4_pool (MaxPooling2D)   (None, 14, 14, 512)       0         \n_________________________________________________________________\nblock5_conv1 (Conv2D)        (None, 14, 14, 512)       2359808   \n_________________________________________________________________\nblock5_conv2 (Conv2D)        (None, 14, 14, 512)       2359808   \n_________________________________________________________________\nblock5_conv3 (Conv2D)        (None, 14, 14, 512)       2359808   \n_________________________________________________________________\nblock5_pool (MaxPooling2D)   (None, 7, 7, 512)         0         \n=================================================================\nTotal params: 14,714,688\nTrainable params: 14,714,688\nNon-trainable params: 0\n_________________________________________________________________\nNone\n"
     ]
    }
   ],
   "source": [
    "## our sweet NN\n",
    "base_model = VGG16(weights='imagenet', include_top = False , input_shape=(224,224, 3))\n",
    "print(base_model.summary())"
   ]
  },
  {
   "cell_type": "code",
   "execution_count": 5,
   "metadata": {},
   "outputs": [],
   "source": [
    "for layer in base_model.layers:\n",
    "    layer.trainable = False"
   ]
  },
  {
   "cell_type": "code",
   "execution_count": 6,
   "metadata": {},
   "outputs": [
    {
     "output_type": "stream",
     "name": "stdout",
     "text": [
      "Model: \"model\"\n_________________________________________________________________\nLayer (type)                 Output Shape              Param #   \n=================================================================\ninput_1 (InputLayer)         [(None, 224, 224, 3)]     0         \n_________________________________________________________________\nblock1_conv1 (Conv2D)        (None, 224, 224, 64)      1792      \n_________________________________________________________________\nblock1_conv2 (Conv2D)        (None, 224, 224, 64)      36928     \n_________________________________________________________________\nblock1_pool (MaxPooling2D)   (None, 112, 112, 64)      0         \n_________________________________________________________________\nblock2_conv1 (Conv2D)        (None, 112, 112, 128)     73856     \n_________________________________________________________________\nblock2_conv2 (Conv2D)        (None, 112, 112, 128)     147584    \n_________________________________________________________________\nblock2_pool (MaxPooling2D)   (None, 56, 56, 128)       0         \n_________________________________________________________________\nblock3_conv1 (Conv2D)        (None, 56, 56, 256)       295168    \n_________________________________________________________________\nblock3_conv2 (Conv2D)        (None, 56, 56, 256)       590080    \n_________________________________________________________________\nblock3_conv3 (Conv2D)        (None, 56, 56, 256)       590080    \n_________________________________________________________________\nblock3_pool (MaxPooling2D)   (None, 28, 28, 256)       0         \n_________________________________________________________________\nblock4_conv1 (Conv2D)        (None, 28, 28, 512)       1180160   \n_________________________________________________________________\nblock4_conv2 (Conv2D)        (None, 28, 28, 512)       2359808   \n_________________________________________________________________\nblock4_conv3 (Conv2D)        (None, 28, 28, 512)       2359808   \n_________________________________________________________________\nblock4_pool (MaxPooling2D)   (None, 14, 14, 512)       0         \n_________________________________________________________________\nblock5_conv1 (Conv2D)        (None, 14, 14, 512)       2359808   \n_________________________________________________________________\nblock5_conv2 (Conv2D)        (None, 14, 14, 512)       2359808   \n_________________________________________________________________\nblock5_conv3 (Conv2D)        (None, 14, 14, 512)       2359808   \n_________________________________________________________________\nblock5_pool (MaxPooling2D)   (None, 7, 7, 512)         0         \n_________________________________________________________________\nflatten (Flatten)            (None, 25088)             0         \n=================================================================\nTotal params: 14,714,688\nTrainable params: 0\nNon-trainable params: 14,714,688\n_________________________________________________________________\n"
     ]
    }
   ],
   "source": [
    "# max_pooling = MaxPool2D()()\n",
    "flatten_svm= Flatten()(base_model.layers[-1].output)\n",
    "# add new classifier layers\n",
    "\n",
    "# class_dense_svm = Dense(4096, activation='relu')(base_model.layers[-1].output) ##maybe not relu...\n",
    "features_svm = Model(inputs=base_model.input, outputs=flatten_svm)\n",
    "features_svm.summary()"
   ]
  },
  {
   "source": [
    "# TEST Z MNIEJSZĄ ILOŚCIĄ DANYCH"
   ],
   "cell_type": "markdown",
   "metadata": {}
  },
  {
   "cell_type": "code",
   "execution_count": 7,
   "metadata": {},
   "outputs": [
    {
     "output_type": "stream",
     "name": "stdout",
     "text": [
      "Found 11524 images belonging to 12 classes.\n"
     ]
    }
   ],
   "source": [
    "small_trdata_gen = ImageDataGenerator(rescale=1./255)\n",
    "smalltrain = small_trdata_gen.flow_from_directory(directory=TRAIN_DIR, target_size=(224,224), batch_size=1, color_mode=\"rgb\", classes=classes, class_mode=\"categorical\", shuffle=False)\n",
    "\n",
    "# validation subset split LOOOOOOOOOOL\n",
    "# smallval = small_trdata_gen.flow_from_directory(directory=TRAIN_DIR, subset='validation', target_size=(224,224), batch_size=1, color_mode=\"rgb\", classes=classes, class_mode=\"categorical\", shuffle=False)\n",
    "# useless for now"
   ]
  },
  {
   "cell_type": "code",
   "execution_count": 8,
   "metadata": {},
   "outputs": [
    {
     "output_type": "stream",
     "name": "stdout",
     "text": [
      "Found 1981 images belonging to 12 classes.\n"
     ]
    }
   ],
   "source": [
    "small_tsdata_gen = ImageDataGenerator(rescale=1./255)\n",
    "smalltest = small_tsdata_gen.flow_from_directory(directory=TEST_DIR, target_size=(224,224),batch_size=1, color_mode=\"rgb\", classes=classes,class_mode=\"categorical\", shuffle=False)"
   ]
  },
  {
   "cell_type": "code",
   "execution_count": 9,
   "metadata": {},
   "outputs": [
    {
     "output_type": "stream",
     "name": "stdout",
     "text": [
      "11524/11524 [==============================] - 2215s 192ms/step\n",
      "1981/1981 [==============================] - 381s 193ms/step\n"
     ]
    }
   ],
   "source": [
    "small_train_features = features_svm.predict(smalltrain, verbose=1)\n",
    "small_test_features = features_svm.predict(smalltest, verbose=1)"
   ]
  },
  {
   "cell_type": "code",
   "execution_count": 10,
   "metadata": {},
   "outputs": [],
   "source": [
    "# FOR SMALLER SETS\n",
    "small_X_train = small_train_features\n",
    "small_y_train = np.array(smalltrain.labels)\n",
    "small_X_test = small_test_features\n",
    "small_y_test = np.array(smalltest.labels)"
   ]
  },
  {
   "cell_type": "code",
   "execution_count": 11,
   "metadata": {},
   "outputs": [],
   "source": [
    "import sklearn\n",
    "from sklearn import svm\n",
    "from sklearn.model_selection import train_test_split"
   ]
  },
  {
   "cell_type": "code",
   "execution_count": 12,
   "metadata": {},
   "outputs": [],
   "source": [
    "X_train, X_val, y_train, y_val = train_test_split(small_X_train, small_y_train, test_size=0.2, random_state=85)"
   ]
  },
  {
   "source": [
    "# RBF"
   ],
   "cell_type": "markdown",
   "metadata": {}
  },
  {
   "cell_type": "code",
   "execution_count": 13,
   "metadata": {},
   "outputs": [
    {
     "output_type": "stream",
     "name": "stdout",
     "text": [
      "[LibSVM]"
     ]
    }
   ],
   "source": [
    "svm_rbf = svm.SVC(kernel='rbf', C=100, verbose=2) #, probability=True, random_state=69)\n",
    "svm_rbf.fit(X_train, y_train)\n",
    "y_pred_train_rbf = svm_rbf.predict(X_train)\n",
    "y_pred_test_rbf = svm_rbf.predict(small_X_test)"
   ]
  },
  {
   "cell_type": "code",
   "execution_count": 14,
   "metadata": {},
   "outputs": [],
   "source": [
    "rbf_report_train = sklearn.metrics.classification_report(y_train, y_pred_train_rbf)\n",
    "rbf_report_test = sklearn.metrics.classification_report(small_y_test, y_pred_test_rbf)"
   ]
  },
  {
   "cell_type": "code",
   "execution_count": 15,
   "metadata": {},
   "outputs": [
    {
     "output_type": "stream",
     "name": "stdout",
     "text": [
      "              precision    recall  f1-score   support\n\n           0       1.00      1.00      1.00       772\n           1       1.00      1.00      1.00       769\n           2       1.00      1.00      1.00       761\n           3       1.00      1.00      1.00       774\n           4       1.00      1.00      1.00       770\n           5       1.00      1.00      1.00       762\n           6       1.00      1.00      1.00       784\n           7       1.00      1.00      1.00       773\n           8       1.00      1.00      1.00       774\n           9       1.00      1.00      1.00       771\n          10       1.00      1.00      1.00       760\n          11       1.00      1.00      1.00       749\n\n    accuracy                           1.00      9219\n   macro avg       1.00      1.00      1.00      9219\nweighted avg       1.00      1.00      1.00      9219\n\n              precision    recall  f1-score   support\n\n           0       1.00      1.00      1.00       164\n           1       1.00      1.00      1.00       166\n           2       0.87      1.00      0.93       166\n           3       1.00      0.78      0.88       232\n           4       0.86      1.00      0.93       164\n           5       1.00      1.00      1.00       164\n           6       1.00      1.00      1.00       164\n           7       1.00      1.00      1.00       166\n           8       1.00      1.00      1.00       166\n           9       1.00      1.00      1.00       164\n          10       1.00      1.00      1.00        99\n          11       1.00      1.00      1.00       166\n\n    accuracy                           0.97      1981\n   macro avg       0.98      0.98      0.98      1981\nweighted avg       0.98      0.97      0.97      1981\n\n"
     ]
    }
   ],
   "source": [
    "print(rbf_report_train)\n",
    "print(rbf_report_test)"
   ]
  },
  {
   "source": [
    "## k-fold"
   ],
   "cell_type": "markdown",
   "metadata": {}
  },
  {
   "cell_type": "code",
   "execution_count": 16,
   "metadata": {},
   "outputs": [],
   "source": [
    "# from sklearn.metrics import classification_report, accuracy_score\n",
    "# from sklearn.model_selection import cross_val_score, cross_val_predict"
   ]
  },
  {
   "cell_type": "code",
   "execution_count": 17,
   "metadata": {},
   "outputs": [],
   "source": [
    "# cv_results = cross_val_score(svm_rbf, X_train, y_train, cv=10)"
   ]
  },
  {
   "cell_type": "code",
   "execution_count": 18,
   "metadata": {},
   "outputs": [],
   "source": [
    "# print(cv_results)"
   ]
  },
  {
   "cell_type": "code",
   "execution_count": 19,
   "metadata": {},
   "outputs": [],
   "source": [
    "# predicted = cross_val_predict(svm_rbf, X_train, y_train, cv=10)"
   ]
  },
  {
   "cell_type": "code",
   "execution_count": 20,
   "metadata": {},
   "outputs": [],
   "source": [
    "# print(accuracy_score(y_train, predicted))"
   ]
  },
  {
   "source": [
    "# Linear"
   ],
   "cell_type": "markdown",
   "metadata": {}
  },
  {
   "cell_type": "code",
   "execution_count": 21,
   "metadata": {},
   "outputs": [
    {
     "output_type": "stream",
     "name": "stdout",
     "text": [
      "[LibSVM]"
     ]
    }
   ],
   "source": [
    "svm_linear = svm.SVC(kernel='linear',C=1, verbose=2) #, probability=True, random_state=69)\n",
    "svm_linear.fit(X_train, y_train)\n",
    "y_pred_train_lin = svm_linear.predict(X_train)\n",
    "y_pred_test_lin = svm_linear.predict(small_X_test)"
   ]
  },
  {
   "cell_type": "code",
   "execution_count": 22,
   "metadata": {},
   "outputs": [],
   "source": [
    "lin_report_train = sklearn.metrics.classification_report(y_train, y_pred_train_lin)\n",
    "lin_report_test = sklearn.metrics.classification_report(small_y_test, y_pred_test_lin)"
   ]
  },
  {
   "cell_type": "code",
   "execution_count": 24,
   "metadata": {},
   "outputs": [
    {
     "output_type": "stream",
     "name": "stdout",
     "text": [
      "              precision    recall  f1-score   support\n\n           0       1.00      1.00      1.00       772\n           1       1.00      1.00      1.00       769\n           2       1.00      1.00      1.00       761\n           3       1.00      1.00      1.00       774\n           4       1.00      1.00      1.00       770\n           5       1.00      1.00      1.00       762\n           6       1.00      1.00      1.00       784\n           7       1.00      1.00      1.00       773\n           8       1.00      1.00      1.00       774\n           9       1.00      1.00      1.00       771\n          10       1.00      1.00      1.00       760\n          11       1.00      1.00      1.00       749\n\n    accuracy                           1.00      9219\n   macro avg       1.00      1.00      1.00      9219\nweighted avg       1.00      1.00      1.00      9219\n\n              precision    recall  f1-score   support\n\n           0       0.99      1.00      1.00       164\n           1       1.00      1.00      1.00       166\n           2       0.86      1.00      0.93       166\n           3       1.00      0.78      0.88       232\n           4       0.87      1.00      0.93       164\n           5       1.00      1.00      1.00       164\n           6       1.00      1.00      1.00       164\n           7       1.00      1.00      1.00       166\n           8       1.00      1.00      1.00       166\n           9       1.00      1.00      1.00       164\n          10       1.00      1.00      1.00        99\n          11       1.00      1.00      1.00       166\n\n    accuracy                           0.97      1981\n   macro avg       0.98      0.98      0.98      1981\nweighted avg       0.98      0.97      0.97      1981\n\n"
     ]
    }
   ],
   "source": [
    "print(lin_report_train)\n",
    "print(lin_report_test)"
   ]
  },
  {
   "source": [
    "# Poly"
   ],
   "cell_type": "markdown",
   "metadata": {}
  },
  {
   "cell_type": "code",
   "execution_count": 25,
   "metadata": {},
   "outputs": [
    {
     "output_type": "stream",
     "name": "stdout",
     "text": [
      "[LibSVM]"
     ]
    }
   ],
   "source": [
    "svm_poly = svm.SVC(kernel='poly',C=1, degree=2, verbose=2) #, probability=True, random_state=69)\n",
    "svm_poly.fit(X_train, y_train)\n",
    "y_pred_train_poly = svm_poly.predict(X_train)\n",
    "y_pred_test_poly = svm_poly.predict(small_X_test)"
   ]
  },
  {
   "cell_type": "code",
   "execution_count": 26,
   "metadata": {},
   "outputs": [],
   "source": [
    "poly_report_train = sklearn.metrics.classification_report(y_train, y_pred_train_poly)\n",
    "poly_report_test = sklearn.metrics.classification_report(small_y_test, y_pred_test_poly)"
   ]
  },
  {
   "cell_type": "code",
   "execution_count": 27,
   "metadata": {},
   "outputs": [
    {
     "output_type": "stream",
     "name": "stdout",
     "text": [
      "              precision    recall  f1-score   support\n\n           0       1.00      0.98      0.99       772\n           1       1.00      1.00      1.00       769\n           2       1.00      1.00      1.00       761\n           3       1.00      1.00      1.00       774\n           4       1.00      1.00      1.00       770\n           5       1.00      1.00      1.00       762\n           6       1.00      1.00      1.00       784\n           7       1.00      1.00      1.00       773\n           8       1.00      1.00      1.00       774\n           9       0.98      1.00      0.99       771\n          10       1.00      1.00      1.00       760\n          11       1.00      1.00      1.00       749\n\n    accuracy                           1.00      9219\n   macro avg       1.00      1.00      1.00      9219\nweighted avg       1.00      1.00      1.00      9219\n\n              precision    recall  f1-score   support\n\n           0       0.89      1.00      0.94       164\n           1       1.00      1.00      1.00       166\n           2       0.87      1.00      0.93       166\n           3       1.00      0.71      0.83       232\n           4       0.80      1.00      0.89       164\n           5       1.00      1.00      1.00       164\n           6       0.93      1.00      0.96       164\n           7       1.00      0.80      0.89       166\n           8       1.00      1.00      1.00       166\n           9       1.00      1.00      1.00       164\n          10       1.00      1.00      1.00        99\n          11       1.00      1.00      1.00       166\n\n    accuracy                           0.95      1981\n   macro avg       0.96      0.96      0.95      1981\nweighted avg       0.96      0.95      0.95      1981\n\n"
     ]
    }
   ],
   "source": [
    "print(poly_report_train)\n",
    "print(poly_report_test)"
   ]
  },
  {
   "source": [
    "# Save results"
   ],
   "cell_type": "markdown",
   "metadata": {}
  },
  {
   "cell_type": "code",
   "execution_count": 30,
   "metadata": {},
   "outputs": [],
   "source": [
    "from joblib import dump, load"
   ]
  },
  {
   "source": [
    "# RBF data"
   ],
   "cell_type": "markdown",
   "metadata": {}
  },
  {
   "cell_type": "code",
   "execution_count": 31,
   "metadata": {},
   "outputs": [
    {
     "output_type": "execute_result",
     "data": {
      "text/plain": [
       "['./models/svm_rbf_C_1.joblib']"
      ]
     },
     "metadata": {},
     "execution_count": 31
    }
   ],
   "source": [
    "dump(rbf_report_train, './results/rbf_report_train_C_1.joblib')\n",
    "dump(rbf_report_test, './results/rbf_report_test_C_1.joblib')\n",
    "dump(svm_rbf, './models/svm_rbf_C_1.joblib')"
   ]
  },
  {
   "source": [
    "# Linear data"
   ],
   "cell_type": "markdown",
   "metadata": {}
  },
  {
   "cell_type": "code",
   "execution_count": 32,
   "metadata": {},
   "outputs": [
    {
     "output_type": "execute_result",
     "data": {
      "text/plain": [
       "['./models/svm_linear_C_1.joblib']"
      ]
     },
     "metadata": {},
     "execution_count": 32
    }
   ],
   "source": [
    "dump(lin_report_train, './results/lin_report_train_C_1.joblib')\n",
    "dump(lin_report_test, './results/lin_report_test_C_1.joblib')\n",
    "dump(svm_linear, './models/svm_linear_C_1.joblib')"
   ]
  },
  {
   "source": [
    "# Polynomial data"
   ],
   "cell_type": "markdown",
   "metadata": {}
  },
  {
   "cell_type": "code",
   "execution_count": 33,
   "metadata": {},
   "outputs": [
    {
     "output_type": "execute_result",
     "data": {
      "text/plain": [
       "['./models/svm_poly_C_1.joblib']"
      ]
     },
     "metadata": {},
     "execution_count": 33
    }
   ],
   "source": [
    "dump(poly_report_train, './results/poly_report_train_C_1.joblib')\n",
    "dump(poly_report_test, './results/poly_report_test_C_1.joblib')\n",
    "dump(svm_poly, './models/svm_poly_C_1.joblib')"
   ]
  }
 ]
}